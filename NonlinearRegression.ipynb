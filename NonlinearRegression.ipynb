{
 "cells": [
  {
   "cell_type": "code",
   "execution_count": 1,
   "metadata": {},
   "outputs": [
    {
     "name": "stdout",
     "output_type": "stream",
     "text": [
      "\u001b[36m\u001b[1mProject \u001b[22m\u001b[39mMixedModelsTutorials v0.1.0\n",
      "\u001b[32m\u001b[1m    Status\u001b[22m\u001b[39m `~/.juliapro/JuliaPro_v1.1.1.1/dev/MixedModelsTutorials/Project.toml`\n",
      " \u001b[90m [a93c6f00]\u001b[39m\u001b[92m + DataFrames v0.18.4\u001b[39m\n",
      " \u001b[90m [31c24e10]\u001b[39m\u001b[92m + Distributions v0.20.0\u001b[39m\n",
      " \u001b[90m [f6369f11]\u001b[39m\u001b[92m + ForwardDiff v0.10.3\u001b[39m\n",
      " \u001b[90m [7073ff75]\u001b[39m\u001b[92m + IJulia v1.18.1\u001b[39m\n",
      " \u001b[90m [91a5bcdd]\u001b[39m\u001b[92m + Plots v0.25.3\u001b[39m\n",
      " \u001b[90m [ce6b1742]\u001b[39m\u001b[92m + RDatasets v0.6.2\u001b[39m\n",
      " \u001b[90m [3eaba693]\u001b[39m\u001b[92m + StatsModels v0.6.1\u001b[39m\n",
      " \u001b[90m [f3b207a7]\u001b[39m\u001b[92m + StatsPlots v0.11.0\u001b[39m\n",
      " \u001b[90m [bd369af6]\u001b[39m\u001b[92m + Tables v0.2.8\u001b[39m\n",
      " \u001b[90m [44d3d7a6]\u001b[39m\u001b[92m + Weave v0.9.1\u001b[39m\n",
      " \u001b[90m [e88e6eb3]\u001b[39m\u001b[92m + Zygote v0.3.2\u001b[39m\n",
      " \u001b[90m [b77e0a4c]\u001b[39m\u001b[92m + InteractiveUtils \u001b[39m\n",
      " \u001b[90m [37e2e46d]\u001b[39m\u001b[92m + LinearAlgebra \u001b[39m\n",
      " \u001b[90m [44cfe95a]\u001b[39m\u001b[92m + Pkg \u001b[39m\n"
     ]
    }
   ],
   "source": [
    "using Pkg; Pkg.status()"
   ]
  },
  {
   "cell_type": "markdown",
   "metadata": {},
   "source": [
    "# Nonlinear regression using automatic differentiation"
   ]
  },
  {
   "cell_type": "markdown",
   "metadata": {},
   "source": [
    "Nonlinear regression or nonlinear least squares fits the parameters of a _model function_ to a vector of _observed responses_ and corresponding values of _covariates_.  Typically the data are organized in a table such as a `DataFrame`.\n",
    "\n",
    "A simple example from enzyme kinetics relates the rate or velocity, `v`, of an enzymatic reaction to the concentration, `c`, of the substrate according to the _Michaelis-Menten_ model\n",
    "\\begin{equation}\n",
    "v = \\frac{V_m\\,c}{K+c}\n",
    "\\end{equation}\n",
    "The parameters of the model are $V_m$, the maximum velocity, and $K$, the Michaelis parameter.  Data from such an experiment is available in the `RDatasets` package.  There are actually two experiments.  We will concentrate on the data for the treated cells."
   ]
  },
  {
   "cell_type": "code",
   "execution_count": 29,
   "metadata": {},
   "outputs": [],
   "source": [
    "using BenchmarkTools, DataFrames, ForwardDiff, LinearAlgebra\n",
    "using RDatasets, StatsPlots, Tables, Zygote"
   ]
  },
  {
   "cell_type": "code",
   "execution_count": 3,
   "metadata": {},
   "outputs": [],
   "source": [
    "gr();"
   ]
  },
  {
   "cell_type": "code",
   "execution_count": 4,
   "metadata": {},
   "outputs": [
    {
     "data": {
      "text/html": [
       "<p><b>GroupedDataFrame with 2 groups based on key: State</b></p><p><i>First Group (12 rows): State = \"treated\"</i></p><table class=\"data-frame\"><thead><tr><th></th><th>Conc</th><th>Rate</th><th>State</th></tr><tr><th></th><th>Float64</th><th>Int32</th><th>Categorical…</th></tr></thead><tbody><tr><th>1</th><td>0.02</td><td>76</td><td>treated</td></tr><tr><th>2</th><td>0.02</td><td>47</td><td>treated</td></tr><tr><th>3</th><td>0.06</td><td>97</td><td>treated</td></tr><tr><th>4</th><td>0.06</td><td>107</td><td>treated</td></tr><tr><th>5</th><td>0.11</td><td>123</td><td>treated</td></tr><tr><th>6</th><td>0.11</td><td>139</td><td>treated</td></tr><tr><th>7</th><td>0.22</td><td>159</td><td>treated</td></tr><tr><th>8</th><td>0.22</td><td>152</td><td>treated</td></tr><tr><th>9</th><td>0.56</td><td>191</td><td>treated</td></tr><tr><th>10</th><td>0.56</td><td>201</td><td>treated</td></tr><tr><th>11</th><td>1.1</td><td>207</td><td>treated</td></tr><tr><th>12</th><td>1.1</td><td>200</td><td>treated</td></tr></tbody></table><p>&vellip;</p><p><i>Last Group (11 rows): State = \"untreated\"</i></p><table class=\"data-frame\"><thead><tr><th></th><th>Conc</th><th>Rate</th><th>State</th></tr><tr><th></th><th>Float64</th><th>Int32</th><th>Categorical…</th></tr></thead><tbody><tr><th>1</th><td>0.02</td><td>67</td><td>untreated</td></tr><tr><th>2</th><td>0.02</td><td>51</td><td>untreated</td></tr><tr><th>3</th><td>0.06</td><td>84</td><td>untreated</td></tr><tr><th>4</th><td>0.06</td><td>86</td><td>untreated</td></tr><tr><th>5</th><td>0.11</td><td>98</td><td>untreated</td></tr><tr><th>6</th><td>0.11</td><td>115</td><td>untreated</td></tr><tr><th>7</th><td>0.22</td><td>131</td><td>untreated</td></tr><tr><th>8</th><td>0.22</td><td>124</td><td>untreated</td></tr><tr><th>9</th><td>0.56</td><td>144</td><td>untreated</td></tr><tr><th>10</th><td>0.56</td><td>158</td><td>untreated</td></tr><tr><th>11</th><td>1.1</td><td>160</td><td>untreated</td></tr></tbody></table>"
      ],
      "text/latex": [
       "GroupedDataFrame with 2 groups based on key: State\n",
       "\n",
       "First Group (12 rows): State = \"treated\"\n",
       "\n",
       "\\begin{tabular}{r|ccc}\n",
       "\t& Conc & Rate & State\\\\\n",
       "\t\\hline\n",
       "\t& Float64 & Int32 & Categorical…\\\\\n",
       "\t\\hline\n",
       "\t1 & 0.02 & 76 & treated \\\\\n",
       "\t2 & 0.02 & 47 & treated \\\\\n",
       "\t3 & 0.06 & 97 & treated \\\\\n",
       "\t4 & 0.06 & 107 & treated \\\\\n",
       "\t5 & 0.11 & 123 & treated \\\\\n",
       "\t6 & 0.11 & 139 & treated \\\\\n",
       "\t7 & 0.22 & 159 & treated \\\\\n",
       "\t8 & 0.22 & 152 & treated \\\\\n",
       "\t9 & 0.56 & 191 & treated \\\\\n",
       "\t10 & 0.56 & 201 & treated \\\\\n",
       "\t11 & 1.1 & 207 & treated \\\\\n",
       "\t12 & 1.1 & 200 & treated \\\\\n",
       "\\end{tabular}\n",
       "\n",
       "$\\dots$\n",
       "\n",
       "Last Group (11 rows): State = \"untreated\"\n",
       "\n",
       "\\begin{tabular}{r|ccc}\n",
       "\t& Conc & Rate & State\\\\\n",
       "\t\\hline\n",
       "\t& Float64 & Int32 & Categorical…\\\\\n",
       "\t\\hline\n",
       "\t1 & 0.02 & 67 & untreated \\\\\n",
       "\t2 & 0.02 & 51 & untreated \\\\\n",
       "\t3 & 0.06 & 84 & untreated \\\\\n",
       "\t4 & 0.06 & 86 & untreated \\\\\n",
       "\t5 & 0.11 & 98 & untreated \\\\\n",
       "\t6 & 0.11 & 115 & untreated \\\\\n",
       "\t7 & 0.22 & 131 & untreated \\\\\n",
       "\t8 & 0.22 & 124 & untreated \\\\\n",
       "\t9 & 0.56 & 144 & untreated \\\\\n",
       "\t10 & 0.56 & 158 & untreated \\\\\n",
       "\t11 & 1.1 & 160 & untreated \\\\\n",
       "\\end{tabular}\n"
      ],
      "text/plain": [
       "GroupedDataFrame with 2 groups based on key: State\n",
       "First Group (12 rows): State = \"treated\"\n",
       "│ Row │ Conc    │ Rate  │ State        │\n",
       "│     │ \u001b[90mFloat64\u001b[39m │ \u001b[90mInt32\u001b[39m │ \u001b[90mCategorical…\u001b[39m │\n",
       "├─────┼─────────┼───────┼──────────────┤\n",
       "│ 1   │ 0.02    │ 76    │ treated      │\n",
       "│ 2   │ 0.02    │ 47    │ treated      │\n",
       "│ 3   │ 0.06    │ 97    │ treated      │\n",
       "│ 4   │ 0.06    │ 107   │ treated      │\n",
       "│ 5   │ 0.11    │ 123   │ treated      │\n",
       "│ 6   │ 0.11    │ 139   │ treated      │\n",
       "│ 7   │ 0.22    │ 159   │ treated      │\n",
       "│ 8   │ 0.22    │ 152   │ treated      │\n",
       "│ 9   │ 0.56    │ 191   │ treated      │\n",
       "│ 10  │ 0.56    │ 201   │ treated      │\n",
       "│ 11  │ 1.1     │ 207   │ treated      │\n",
       "│ 12  │ 1.1     │ 200   │ treated      │\n",
       "⋮\n",
       "Last Group (11 rows): State = \"untreated\"\n",
       "│ Row │ Conc    │ Rate  │ State        │\n",
       "│     │ \u001b[90mFloat64\u001b[39m │ \u001b[90mInt32\u001b[39m │ \u001b[90mCategorical…\u001b[39m │\n",
       "├─────┼─────────┼───────┼──────────────┤\n",
       "│ 1   │ 0.02    │ 67    │ untreated    │\n",
       "│ 2   │ 0.02    │ 51    │ untreated    │\n",
       "│ 3   │ 0.06    │ 84    │ untreated    │\n",
       "│ 4   │ 0.06    │ 86    │ untreated    │\n",
       "│ 5   │ 0.11    │ 98    │ untreated    │\n",
       "│ 6   │ 0.11    │ 115   │ untreated    │\n",
       "│ 7   │ 0.22    │ 131   │ untreated    │\n",
       "│ 8   │ 0.22    │ 124   │ untreated    │\n",
       "│ 9   │ 0.56    │ 144   │ untreated    │\n",
       "│ 10  │ 0.56    │ 158   │ untreated    │\n",
       "│ 11  │ 1.1     │ 160   │ untreated    │"
      ]
     },
     "execution_count": 4,
     "metadata": {},
     "output_type": "execute_result"
    }
   ],
   "source": [
    "Pur = groupby(RDatasets.dataset(\"datasets\", \"Puromycin\"), :State)"
   ]
  },
  {
   "cell_type": "code",
   "execution_count": 5,
   "metadata": {},
   "outputs": [
    {
     "data": {
      "image/svg+xml": [
       "<?xml version=\"1.0\" encoding=\"utf-8\"?>\n",
       "<svg xmlns=\"http://www.w3.org/2000/svg\" xmlns:xlink=\"http://www.w3.org/1999/xlink\" width=\"600\" height=\"400\" viewBox=\"0 0 2400 1600\">\n",
       "<defs>\n",
       "  <clipPath id=\"clip3300\">\n",
       "    <rect x=\"0\" y=\"0\" width=\"2400\" height=\"1600\"/>\n",
       "  </clipPath>\n",
       "</defs>\n",
       "<polygon clip-path=\"url(#clip3300)\" points=\"\n",
       "0,1600 2400,1600 2400,0 0,0 \n",
       "  \" fill=\"#ffffff\" fill-rule=\"evenodd\" fill-opacity=\"1\"/>\n",
       "<defs>\n",
       "  <clipPath id=\"clip3301\">\n",
       "    <rect x=\"480\" y=\"0\" width=\"1681\" height=\"1600\"/>\n",
       "  </clipPath>\n",
       "</defs>\n",
       "<polygon clip-path=\"url(#clip3300)\" points=\"\n",
       "167.279,1487.47 2352.76,1487.47 2352.76,47.2441 167.279,47.2441 \n",
       "  \" fill=\"#ffffff\" fill-rule=\"evenodd\" fill-opacity=\"1\"/>\n",
       "<defs>\n",
       "  <clipPath id=\"clip3302\">\n",
       "    <rect x=\"167\" y=\"47\" width=\"2186\" height=\"1441\"/>\n",
       "  </clipPath>\n",
       "</defs>\n",
       "<polyline clip-path=\"url(#clip3302)\" style=\"stroke:#000000; stroke-width:2; stroke-opacity:0.1; fill:none\" points=\"\n",
       "  190.951,1487.47 190.951,47.2441 \n",
       "  \"/>\n",
       "<polyline clip-path=\"url(#clip3302)\" style=\"stroke:#000000; stroke-width:2; stroke-opacity:0.1; fill:none\" points=\"\n",
       "  668.213,1487.47 668.213,47.2441 \n",
       "  \"/>\n",
       "<polyline clip-path=\"url(#clip3302)\" style=\"stroke:#000000; stroke-width:2; stroke-opacity:0.1; fill:none\" points=\"\n",
       "  1145.47,1487.47 1145.47,47.2441 \n",
       "  \"/>\n",
       "<polyline clip-path=\"url(#clip3302)\" style=\"stroke:#000000; stroke-width:2; stroke-opacity:0.1; fill:none\" points=\"\n",
       "  1622.74,1487.47 1622.74,47.2441 \n",
       "  \"/>\n",
       "<polyline clip-path=\"url(#clip3302)\" style=\"stroke:#000000; stroke-width:2; stroke-opacity:0.1; fill:none\" points=\"\n",
       "  2100,1487.47 2100,47.2441 \n",
       "  \"/>\n",
       "<polyline clip-path=\"url(#clip3302)\" style=\"stroke:#000000; stroke-width:2; stroke-opacity:0.1; fill:none\" points=\"\n",
       "  167.279,1421.24 2352.76,1421.24 \n",
       "  \"/>\n",
       "<polyline clip-path=\"url(#clip3302)\" style=\"stroke:#000000; stroke-width:2; stroke-opacity:0.1; fill:none\" points=\"\n",
       "  167.279,996.641 2352.76,996.641 \n",
       "  \"/>\n",
       "<polyline clip-path=\"url(#clip3302)\" style=\"stroke:#000000; stroke-width:2; stroke-opacity:0.1; fill:none\" points=\"\n",
       "  167.279,572.045 2352.76,572.045 \n",
       "  \"/>\n",
       "<polyline clip-path=\"url(#clip3302)\" style=\"stroke:#000000; stroke-width:2; stroke-opacity:0.1; fill:none\" points=\"\n",
       "  167.279,147.449 2352.76,147.449 \n",
       "  \"/>\n",
       "<polyline clip-path=\"url(#clip3300)\" style=\"stroke:#000000; stroke-width:4; stroke-opacity:1; fill:none\" points=\"\n",
       "  167.279,1487.47 2352.76,1487.47 \n",
       "  \"/>\n",
       "<polyline clip-path=\"url(#clip3300)\" style=\"stroke:#000000; stroke-width:4; stroke-opacity:1; fill:none\" points=\"\n",
       "  167.279,1487.47 167.279,47.2441 \n",
       "  \"/>\n",
       "<polyline clip-path=\"url(#clip3300)\" style=\"stroke:#000000; stroke-width:4; stroke-opacity:1; fill:none\" points=\"\n",
       "  190.951,1487.47 190.951,1465.87 \n",
       "  \"/>\n",
       "<polyline clip-path=\"url(#clip3300)\" style=\"stroke:#000000; stroke-width:4; stroke-opacity:1; fill:none\" points=\"\n",
       "  668.213,1487.47 668.213,1465.87 \n",
       "  \"/>\n",
       "<polyline clip-path=\"url(#clip3300)\" style=\"stroke:#000000; stroke-width:4; stroke-opacity:1; fill:none\" points=\"\n",
       "  1145.47,1487.47 1145.47,1465.87 \n",
       "  \"/>\n",
       "<polyline clip-path=\"url(#clip3300)\" style=\"stroke:#000000; stroke-width:4; stroke-opacity:1; fill:none\" points=\"\n",
       "  1622.74,1487.47 1622.74,1465.87 \n",
       "  \"/>\n",
       "<polyline clip-path=\"url(#clip3300)\" style=\"stroke:#000000; stroke-width:4; stroke-opacity:1; fill:none\" points=\"\n",
       "  2100,1487.47 2100,1465.87 \n",
       "  \"/>\n",
       "<polyline clip-path=\"url(#clip3300)\" style=\"stroke:#000000; stroke-width:4; stroke-opacity:1; fill:none\" points=\"\n",
       "  167.279,1421.24 200.061,1421.24 \n",
       "  \"/>\n",
       "<polyline clip-path=\"url(#clip3300)\" style=\"stroke:#000000; stroke-width:4; stroke-opacity:1; fill:none\" points=\"\n",
       "  167.279,996.641 200.061,996.641 \n",
       "  \"/>\n",
       "<polyline clip-path=\"url(#clip3300)\" style=\"stroke:#000000; stroke-width:4; stroke-opacity:1; fill:none\" points=\"\n",
       "  167.279,572.045 200.061,572.045 \n",
       "  \"/>\n",
       "<polyline clip-path=\"url(#clip3300)\" style=\"stroke:#000000; stroke-width:4; stroke-opacity:1; fill:none\" points=\"\n",
       "  167.279,147.449 200.061,147.449 \n",
       "  \"/>\n",
       "<g clip-path=\"url(#clip3300)\">\n",
       "<text style=\"fill:#000000; fill-opacity:1; font-family:Arial,Helvetica Neue,Helvetica,sans-serif; font-size:48px; text-anchor:middle;\" transform=\"rotate(0, 190.951, 1541.47)\" x=\"190.951\" y=\"1541.47\">0.00</text>\n",
       "</g>\n",
       "<g clip-path=\"url(#clip3300)\">\n",
       "<text style=\"fill:#000000; fill-opacity:1; font-family:Arial,Helvetica Neue,Helvetica,sans-serif; font-size:48px; text-anchor:middle;\" transform=\"rotate(0, 668.213, 1541.47)\" x=\"668.213\" y=\"1541.47\">0.25</text>\n",
       "</g>\n",
       "<g clip-path=\"url(#clip3300)\">\n",
       "<text style=\"fill:#000000; fill-opacity:1; font-family:Arial,Helvetica Neue,Helvetica,sans-serif; font-size:48px; text-anchor:middle;\" transform=\"rotate(0, 1145.47, 1541.47)\" x=\"1145.47\" y=\"1541.47\">0.50</text>\n",
       "</g>\n",
       "<g clip-path=\"url(#clip3300)\">\n",
       "<text style=\"fill:#000000; fill-opacity:1; font-family:Arial,Helvetica Neue,Helvetica,sans-serif; font-size:48px; text-anchor:middle;\" transform=\"rotate(0, 1622.74, 1541.47)\" x=\"1622.74\" y=\"1541.47\">0.75</text>\n",
       "</g>\n",
       "<g clip-path=\"url(#clip3300)\">\n",
       "<text style=\"fill:#000000; fill-opacity:1; font-family:Arial,Helvetica Neue,Helvetica,sans-serif; font-size:48px; text-anchor:middle;\" transform=\"rotate(0, 2100, 1541.47)\" x=\"2100\" y=\"1541.47\">1.00</text>\n",
       "</g>\n",
       "<g clip-path=\"url(#clip3300)\">\n",
       "<text style=\"fill:#000000; fill-opacity:1; font-family:Arial,Helvetica Neue,Helvetica,sans-serif; font-size:48px; text-anchor:end;\" transform=\"rotate(0, 143.279, 1438.74)\" x=\"143.279\" y=\"1438.74\">50</text>\n",
       "</g>\n",
       "<g clip-path=\"url(#clip3300)\">\n",
       "<text style=\"fill:#000000; fill-opacity:1; font-family:Arial,Helvetica Neue,Helvetica,sans-serif; font-size:48px; text-anchor:end;\" transform=\"rotate(0, 143.279, 1014.14)\" x=\"143.279\" y=\"1014.14\">100</text>\n",
       "</g>\n",
       "<g clip-path=\"url(#clip3300)\">\n",
       "<text style=\"fill:#000000; fill-opacity:1; font-family:Arial,Helvetica Neue,Helvetica,sans-serif; font-size:48px; text-anchor:end;\" transform=\"rotate(0, 143.279, 589.545)\" x=\"143.279\" y=\"589.545\">150</text>\n",
       "</g>\n",
       "<g clip-path=\"url(#clip3300)\">\n",
       "<text style=\"fill:#000000; fill-opacity:1; font-family:Arial,Helvetica Neue,Helvetica,sans-serif; font-size:48px; text-anchor:end;\" transform=\"rotate(0, 143.279, 164.949)\" x=\"143.279\" y=\"164.949\">200</text>\n",
       "</g>\n",
       "<circle clip-path=\"url(#clip3302)\" style=\"fill:#000000; stroke:none; fill-opacity:1\" cx=\"229.132\" cy=\"1200.45\" r=\"18\"/>\n",
       "<circle clip-path=\"url(#clip3302)\" style=\"fill:#009af9; stroke:none; fill-opacity:1\" cx=\"229.132\" cy=\"1200.45\" r=\"14\"/>\n",
       "<circle clip-path=\"url(#clip3302)\" style=\"fill:#000000; stroke:none; fill-opacity:1\" cx=\"229.132\" cy=\"1446.71\" r=\"18\"/>\n",
       "<circle clip-path=\"url(#clip3302)\" style=\"fill:#009af9; stroke:none; fill-opacity:1\" cx=\"229.132\" cy=\"1446.71\" r=\"14\"/>\n",
       "<circle clip-path=\"url(#clip3302)\" style=\"fill:#000000; stroke:none; fill-opacity:1\" cx=\"305.494\" cy=\"1022.12\" r=\"18\"/>\n",
       "<circle clip-path=\"url(#clip3302)\" style=\"fill:#009af9; stroke:none; fill-opacity:1\" cx=\"305.494\" cy=\"1022.12\" r=\"14\"/>\n",
       "<circle clip-path=\"url(#clip3302)\" style=\"fill:#000000; stroke:none; fill-opacity:1\" cx=\"305.494\" cy=\"937.198\" r=\"18\"/>\n",
       "<circle clip-path=\"url(#clip3302)\" style=\"fill:#009af9; stroke:none; fill-opacity:1\" cx=\"305.494\" cy=\"937.198\" r=\"14\"/>\n",
       "<circle clip-path=\"url(#clip3302)\" style=\"fill:#000000; stroke:none; fill-opacity:1\" cx=\"400.946\" cy=\"801.327\" r=\"18\"/>\n",
       "<circle clip-path=\"url(#clip3302)\" style=\"fill:#009af9; stroke:none; fill-opacity:1\" cx=\"400.946\" cy=\"801.327\" r=\"14\"/>\n",
       "<circle clip-path=\"url(#clip3302)\" style=\"fill:#000000; stroke:none; fill-opacity:1\" cx=\"400.946\" cy=\"665.456\" r=\"18\"/>\n",
       "<circle clip-path=\"url(#clip3302)\" style=\"fill:#009af9; stroke:none; fill-opacity:1\" cx=\"400.946\" cy=\"665.456\" r=\"14\"/>\n",
       "<circle clip-path=\"url(#clip3302)\" style=\"fill:#000000; stroke:none; fill-opacity:1\" cx=\"610.942\" cy=\"495.618\" r=\"18\"/>\n",
       "<circle clip-path=\"url(#clip3302)\" style=\"fill:#009af9; stroke:none; fill-opacity:1\" cx=\"610.942\" cy=\"495.618\" r=\"14\"/>\n",
       "<circle clip-path=\"url(#clip3302)\" style=\"fill:#000000; stroke:none; fill-opacity:1\" cx=\"610.942\" cy=\"555.061\" r=\"18\"/>\n",
       "<circle clip-path=\"url(#clip3302)\" style=\"fill:#009af9; stroke:none; fill-opacity:1\" cx=\"610.942\" cy=\"555.061\" r=\"14\"/>\n",
       "<circle clip-path=\"url(#clip3302)\" style=\"fill:#000000; stroke:none; fill-opacity:1\" cx=\"1260.02\" cy=\"223.876\" r=\"18\"/>\n",
       "<circle clip-path=\"url(#clip3302)\" style=\"fill:#009af9; stroke:none; fill-opacity:1\" cx=\"1260.02\" cy=\"223.876\" r=\"14\"/>\n",
       "<circle clip-path=\"url(#clip3302)\" style=\"fill:#000000; stroke:none; fill-opacity:1\" cx=\"1260.02\" cy=\"138.957\" r=\"18\"/>\n",
       "<circle clip-path=\"url(#clip3302)\" style=\"fill:#009af9; stroke:none; fill-opacity:1\" cx=\"1260.02\" cy=\"138.957\" r=\"14\"/>\n",
       "<circle clip-path=\"url(#clip3302)\" style=\"fill:#000000; stroke:none; fill-opacity:1\" cx=\"2290.9\" cy=\"88.0053\" r=\"18\"/>\n",
       "<circle clip-path=\"url(#clip3302)\" style=\"fill:#009af9; stroke:none; fill-opacity:1\" cx=\"2290.9\" cy=\"88.0053\" r=\"14\"/>\n",
       "<circle clip-path=\"url(#clip3302)\" style=\"fill:#000000; stroke:none; fill-opacity:1\" cx=\"2290.9\" cy=\"147.449\" r=\"18\"/>\n",
       "<circle clip-path=\"url(#clip3302)\" style=\"fill:#009af9; stroke:none; fill-opacity:1\" cx=\"2290.9\" cy=\"147.449\" r=\"14\"/>\n",
       "<polygon clip-path=\"url(#clip3300)\" points=\"\n",
       "1989.93,251.724 2280.76,251.724 2280.76,130.764 1989.93,130.764 \n",
       "  \" fill=\"#ffffff\" fill-rule=\"evenodd\" fill-opacity=\"1\"/>\n",
       "<polyline clip-path=\"url(#clip3300)\" style=\"stroke:#000000; stroke-width:4; stroke-opacity:1; fill:none\" points=\"\n",
       "  1989.93,251.724 2280.76,251.724 2280.76,130.764 1989.93,130.764 1989.93,251.724 \n",
       "  \"/>\n",
       "<circle clip-path=\"url(#clip3300)\" style=\"fill:#000000; stroke:none; fill-opacity:1\" cx=\"2097.93\" cy=\"191.244\" r=\"25\"/>\n",
       "<circle clip-path=\"url(#clip3300)\" style=\"fill:#009af9; stroke:none; fill-opacity:1\" cx=\"2097.93\" cy=\"191.244\" r=\"21\"/>\n",
       "<g clip-path=\"url(#clip3300)\">\n",
       "<text style=\"fill:#000000; fill-opacity:1; font-family:Arial,Helvetica Neue,Helvetica,sans-serif; font-size:48px; text-anchor:start;\" transform=\"rotate(0, 2181.93, 208.744)\" x=\"2181.93\" y=\"208.744\">y1</text>\n",
       "</g>\n",
       "</svg>\n"
      ]
     },
     "execution_count": 5,
     "metadata": {},
     "output_type": "execute_result"
    }
   ],
   "source": [
    "@df Pur[1] scatter(:Conc, :Rate)"
   ]
  },
  {
   "cell_type": "markdown",
   "metadata": {},
   "source": [
    "As can be seen from the plot, the maximum velocity is around 200 and the Michaels parameter, `K`, which is the concentration at which the velocity is half the maximum, is about 0.05."
   ]
  },
  {
   "cell_type": "markdown",
   "metadata": {},
   "source": [
    "## Evaluating the mean vector and the Jacobian"
   ]
  },
  {
   "cell_type": "markdown",
   "metadata": {},
   "source": [
    "In the statistical model the response vector, $\\mathbf{y}$, is the realization of a random variable, $\\mathcal{Y}$, that has a \"spherical\" Gaussian distribution with mean, $\\mathbf{\\mu}$, determined from the mean function, $\\mathbf{\\mu}(\\mathbf{\\theta},\\mathbf{C})$, where $\\mathbf{\\theta}$ is the parameter vector and $\\mathbf{C}$ is the table of covariate values.\n",
    "\\begin{equation}\n",
    "\\mathcal{Y}\\sim\\mathcal{N}\\left(\\mathbf{\\mu}(\\mathbf{\\theta},\\mathbf{C}),\\sigma^2\\mathbf{I}\\right)\n",
    "\\end{equation}\n",
    "\n",
    "The maximum likelihood estimates of $\\mathbf{\\theta}$ are the values that minimize the sum of squared residuals\n",
    "\\begin{equation}\n",
    "\\widehat{\\mathbf{\\theta}}=\\arg\\min_{\\mathbf{\\theta}} \\|\\mathbf{y}-\\mathbf{\\mu}(\\mathbf{\\theta},\\mathbf{C})\\|^2\n",
    "\\end{equation}\n",
    "\n",
    "A simple iterative scheme for this _nonlinear least squares_ problem is the _Gauss-Newton_ method of successive linear approximation.  Writing $\\mathbf{\\mu}^{(i)}$ for the value of the mean vector at the $i$ iterate, $\\mathbf{\\theta}^{(i)}$ the increment is the linear least squares solution of the residual, $\\mathbf{r}^{(i)}=\\mathbf{y}-\\mathbf{\\mu}^{(i)}$, on the Jacobian, $\\mathbf{J}^{(i)}=\\partial\\mathbf{\\mu}(\\mathbf{\\theta},\\mathbf{C})/\\partial\\mathbf{\\theta}|_{\\mathbf{\\theta}^{(i)}}$\n",
    "\\begin{equation}\n",
    "\\mathbf{\\mathbf{\\delta}^{(i)}}=\\arg\\min_{\\mathbf{\\delta}}\\|\\mathbf{r}^{(i)}-\\mathbf{J}^{(i)}\\mathbf{\\delta}\\|^2\n",
    "\\end{equation}"
   ]
  },
  {
   "cell_type": "markdown",
   "metadata": {},
   "source": [
    "### Vector evaluation"
   ]
  },
  {
   "cell_type": "markdown",
   "metadata": {},
   "source": [
    "In the example the mean function could be written for vector evaluation using dot-broadcast fusion"
   ]
  },
  {
   "cell_type": "code",
   "execution_count": 6,
   "metadata": {},
   "outputs": [
    {
     "data": {
      "text/plain": [
       "μ (generic function with 1 method)"
      ]
     },
     "execution_count": 6,
     "metadata": {},
     "output_type": "execute_result"
    }
   ],
   "source": [
    "μ(Vm, K, conc) = @. Vm * conc / (K + conc)"
   ]
  },
  {
   "cell_type": "markdown",
   "metadata": {},
   "source": [
    "producing the residual"
   ]
  },
  {
   "cell_type": "code",
   "execution_count": 7,
   "metadata": {},
   "outputs": [
    {
     "data": {
      "text/plain": [
       "12-element Array{Float64,1}:\n",
       "  18.85714285714286  \n",
       " -10.142857142857139 \n",
       " -12.090909090909093 \n",
       "  -2.0909090909090935\n",
       " -14.5               \n",
       "   1.5               \n",
       "  -3.962962962962962 \n",
       " -10.962962962962962 \n",
       "   7.393442622950829 \n",
       "  17.39344262295083  \n",
       "  15.695652173913032 \n",
       "   8.695652173913032 "
      ]
     },
     "execution_count": 7,
     "metadata": {},
     "output_type": "execute_result"
    }
   ],
   "source": [
    "r = Pur[1].Rate - μ(200., 0.05, Pur[1].Conc)"
   ]
  },
  {
   "cell_type": "markdown",
   "metadata": {},
   "source": [
    "The `ForwardDiff` package can provide the Jacobian but it requires a unary function on which to operate.  This means that the parameters must be passed as an `AbstractVector` and the covariates must be in the closure of the function passed to, say, `ForwardDiff.jacobian!`.  Some applications require reuse of the model function for different sets of covariates, such as the treated and untreated cells here, and I think that means using a reference to the data table when defining the model function."
   ]
  },
  {
   "cell_type": "code",
   "execution_count": null,
   "metadata": {},
   "outputs": [],
   "source": [
    "const dataref = Ref(first(Pur))\n",
    "function μ₁(pars)\n",
    "    Vm, K = pars\n",
    "    conc = dataref[].Conc\n",
    "    @. Vm * conc / (K + conc)\n",
    "end\n",
    "const θ = [200., 0.05]\n",
    "const results = DiffResults.JacobianResult(dataref[].Conc, θ)\n",
    "const cfg = ForwardDiff.JacobianConfig(μ₁, θ)"
   ]
  },
  {
   "cell_type": "code",
   "execution_count": 17,
   "metadata": {},
   "outputs": [
    {
     "data": {
      "text/plain": [
       "1×12 Adjoint{Float64,Array{Float64,1}}:\n",
       " 57.1429  57.1429  109.091  109.091  …  183.607  183.607  191.304  191.304"
      ]
     },
     "execution_count": 17,
     "metadata": {},
     "output_type": "execute_result"
    }
   ],
   "source": [
    "ForwardDiff.jacobian!(results, μ₁, θ, cfg)\n",
    "adjoint(results.value)"
   ]
  },
  {
   "cell_type": "code",
   "execution_count": 18,
   "metadata": {},
   "outputs": [
    {
     "data": {
      "text/plain": [
       "12×2 Array{Float64,2}:\n",
       " 0.285714  -816.327\n",
       " 0.285714  -816.327\n",
       " 0.545455  -991.736\n",
       " 0.545455  -991.736\n",
       " 0.6875    -859.375\n",
       " 0.6875    -859.375\n",
       " 0.814815  -603.567\n",
       " 0.814815  -603.567\n",
       " 0.918033  -300.994\n",
       " 0.918033  -300.994\n",
       " 0.956522  -166.352\n",
       " 0.956522  -166.352"
      ]
     },
     "execution_count": 18,
     "metadata": {},
     "output_type": "execute_result"
    }
   ],
   "source": [
    "results.derivs[1]"
   ]
  },
  {
   "cell_type": "code",
   "execution_count": 19,
   "metadata": {},
   "outputs": [
    {
     "data": {
      "text/plain": [
       "12-element Array{Float64,1}:\n",
       "  18.85714285714286  \n",
       " -10.142857142857139 \n",
       " -12.090909090909093 \n",
       "  -2.0909090909090935\n",
       " -14.5               \n",
       "   1.5               \n",
       "  -3.962962962962962 \n",
       " -10.962962962962962 \n",
       "   7.393442622950829 \n",
       "  17.39344262295083  \n",
       "  15.695652173913032 \n",
       "   8.695652173913032 "
      ]
     },
     "execution_count": 19,
     "metadata": {},
     "output_type": "execute_result"
    }
   ],
   "source": [
    "map!(-, results.value, dataref[].Rate, results.value) # replace μ by residual"
   ]
  },
  {
   "cell_type": "code",
   "execution_count": 20,
   "metadata": {},
   "outputs": [
    {
     "data": {
      "text/plain": [
       "1636.5857075901783"
      ]
     },
     "execution_count": 20,
     "metadata": {},
     "output_type": "execute_result"
    }
   ],
   "source": [
    "sum(abs2, results.value)                 # current sum of squared residuals"
   ]
  },
  {
   "cell_type": "code",
   "execution_count": 21,
   "metadata": {},
   "outputs": [
    {
     "data": {
      "text/plain": [
       "2-element Array{Float64,1}:\n",
       " 11.157219609869895   \n",
       "  0.011627130326972698"
      ]
     },
     "execution_count": 21,
     "metadata": {},
     "output_type": "execute_result"
    }
   ],
   "source": [
    "δ = qr(results.derivs[1])\\results.value"
   ]
  },
  {
   "cell_type": "code",
   "execution_count": 22,
   "metadata": {},
   "outputs": [
    {
     "data": {
      "text/plain": [
       "2-element Array{Float64,1}:\n",
       " 211.15721960986988  \n",
       "   0.0616271303269727"
      ]
     },
     "execution_count": 22,
     "metadata": {},
     "output_type": "execute_result"
    }
   ],
   "source": [
    "θ .+= δ"
   ]
  },
  {
   "cell_type": "code",
   "execution_count": 23,
   "metadata": {},
   "outputs": [
    {
     "data": {
      "text/plain": [
       "1205.6196313926841"
      ]
     },
     "execution_count": 23,
     "metadata": {},
     "output_type": "execute_result"
    }
   ],
   "source": [
    "ForwardDiff.jacobian!(results, μ₁, θ, cfg)\n",
    "sum(abs2, map!(-, results.value, dataref[].Rate, results.value))"
   ]
  },
  {
   "cell_type": "markdown",
   "metadata": {},
   "source": [
    "To change to a new data table, reassign `dataref[]` and create a new `JacobianResult`."
   ]
  },
  {
   "cell_type": "code",
   "execution_count": 11,
   "metadata": {},
   "outputs": [
    {
     "data": {
      "text/plain": [
       "1×11 LinearAlgebra.Adjoint{Float64,Array{Float64,1}}:\n",
       " 57.1429  57.1429  109.091  109.091  …  162.963  183.607  183.607  191.304"
      ]
     },
     "execution_count": 11,
     "metadata": {},
     "output_type": "execute_result"
    }
   ],
   "source": [
    "dataref[] = last(Pur)\n",
    "const res2 = DiffResults.JacobianResult(dataref[].Conc, θ)\n",
    "ForwardDiff.jacobian!(res2, μ₁, θ, cfg)\n",
    "adjoint(res2.value)"
   ]
  },
  {
   "cell_type": "code",
   "execution_count": 12,
   "metadata": {},
   "outputs": [
    {
     "data": {
      "text/plain": [
       "11×2 Array{Float64,2}:\n",
       " 0.285714  -816.327\n",
       " 0.285714  -816.327\n",
       " 0.545455  -991.736\n",
       " 0.545455  -991.736\n",
       " 0.6875    -859.375\n",
       " 0.6875    -859.375\n",
       " 0.814815  -603.567\n",
       " 0.814815  -603.567\n",
       " 0.918033  -300.994\n",
       " 0.918033  -300.994\n",
       " 0.956522  -166.352"
      ]
     },
     "execution_count": 12,
     "metadata": {},
     "output_type": "execute_result"
    }
   ],
   "source": [
    "res2.derivs[1]"
   ]
  },
  {
   "cell_type": "markdown",
   "metadata": {},
   "source": [
    "Of course, these computations can be made cleaner by defining a data structure and operating on the struct but it seems to be tricky to get the closure of the model function right, if the model function is to be an element of the struct.  Because of lexical scoping the closure is defined at the time the function is defined."
   ]
  },
  {
   "cell_type": "markdown",
   "metadata": {},
   "source": [
    "## Scalar evaluation"
   ]
  },
  {
   "cell_type": "code",
   "execution_count": null,
   "metadata": {},
   "outputs": [],
   "source": [
    "struct NLregData{T} where {T<:AbstractFloat}\n",
    "    μ::Function\n",
    "    dat::AbstractDataFrame\n",
    "    y::AbstractVector{T}\n",
    "    θ::AbstractVector{T}\n",
    "    results::DiffResults.JacobianResult"
   ]
  },
  {
   "cell_type": "markdown",
   "metadata": {},
   "source": [
    "As all the cool kids are switching to the `Zygote` package for automatic differentiation, I read up on that.  As far as I can see, Zygote is primarily used to evaluate gradients of scalar functions.\n",
    "\n",
    "To iterate over the rows of the data frame, it is probably worthwhile to convert it to a rowtable.  Similarly, the matrix factor for evaluating the increment can be generated from the rows using `LinearAlgebra.lowrankupdate!`."
   ]
  },
  {
   "cell_type": "code",
   "execution_count": 25,
   "metadata": {},
   "outputs": [
    {
     "data": {
      "text/plain": [
       "3-element Array{Float64,1}:\n",
       " 0.0\n",
       " 0.0\n",
       " 0.0"
      ]
     },
     "execution_count": 25,
     "metadata": {},
     "output_type": "execute_result"
    }
   ],
   "source": [
    "const rt = rowtable(first(Pur))\n",
    "const ch = cholesky(zeros(3, 3) + I)\n",
    "const v = zeros(3);"
   ]
  },
  {
   "cell_type": "code",
   "execution_count": 26,
   "metadata": {},
   "outputs": [
    {
     "data": {
      "text/plain": [
       "updatech! (generic function with 1 method)"
      ]
     },
     "execution_count": 26,
     "metadata": {},
     "output_type": "execute_result"
    }
   ],
   "source": [
    "function updatech!(ch::Cholesky{T, Matrix{T}}, θ::AbstractVector{T}, rowtbl, v::Vector{T}) where {T}\n",
    "    rss = zero(T)             # residual sum of squares\n",
    "    fill!(ch.factors, false)\n",
    "    Vm, K = θ\n",
    "    for r in rowtbl\n",
    "        copyto!(v, gradient((Vm, K) -> μ(Vm, K, r.Conc), Vm, K))\n",
    "        resid = r.Rate - μ(Vm, K, r.Conc)\n",
    "        rss += abs2(resid)\n",
    "        v[end] = resid\n",
    "        lowrankupdate!(ch, v)\n",
    "    end\n",
    "    rss\n",
    "end"
   ]
  },
  {
   "cell_type": "code",
   "execution_count": 27,
   "metadata": {},
   "outputs": [
    {
     "data": {
      "text/plain": [
       "1205.6196313926841"
      ]
     },
     "execution_count": 27,
     "metadata": {},
     "output_type": "execute_result"
    }
   ],
   "source": [
    "updatech!(ch, θ, rt, v)  # returns sum of squared residuals at current θ"
   ]
  },
  {
   "cell_type": "code",
   "execution_count": 28,
   "metadata": {},
   "outputs": [
    {
     "data": {
      "text/plain": [
       "Cholesky{Float64,Array{Float64,2}}\n",
       "U factor:\n",
       "3×3 UpperTriangular{Float64,Array{Float64,2}}:\n",
       " 2.46279  -1607.44   -0.225002\n",
       "  ⋅        1364.85    3.02266 \n",
       "  ⋅            ⋅    -34.5895  "
      ]
     },
     "execution_count": 28,
     "metadata": {},
     "output_type": "execute_result"
    }
   ],
   "source": [
    "ch"
   ]
  },
  {
   "cell_type": "code",
   "execution_count": 30,
   "metadata": {},
   "outputs": [
    {
     "data": {
      "text/plain": [
       "2-element Array{Float64,1}:\n",
       " -0.09136051999062601 \n",
       "  0.002214648452543934"
      ]
     },
     "execution_count": 30,
     "metadata": {},
     "output_type": "execute_result"
    }
   ],
   "source": [
    "ldiv!(LowerTriangular(view(ch.factors, 1:2, 1:2)), copyto!(δ, view(ch.factors, 1:2, 3)))"
   ]
  },
  {
   "cell_type": "markdown",
   "metadata": {},
   "source": [
    "As I understand it, `Zygote.forwarddiff` could be a better choice of AD algorithm but I don't quite understand how to use it.  I thought it could work like this but it doesn't"
   ]
  },
  {
   "cell_type": "code",
   "execution_count": 31,
   "metadata": {},
   "outputs": [
    {
     "data": {
      "text/plain": [
       "forwardupdate! (generic function with 1 method)"
      ]
     },
     "execution_count": 31,
     "metadata": {},
     "output_type": "execute_result"
    }
   ],
   "source": [
    "function forwardupdate!(ch::Cholesky{T, Matrix{T}}, θ::AbstractVector{T}, rowtbl, v::Vector{T}) where {T}\n",
    "    rss = zero(T)             # residual sum of squares\n",
    "    fill!(ch.factors, false)  # zero out the Cholesky factor\n",
    "    for r in rowtbl\n",
    "        copyto!(v, Zygote.forwarddiff(θ -> μ(θ[1], θ[2], r.Conc), θ))\n",
    "        resid = r.Rate - μ(θ[1], θ[2], r.Conc)\n",
    "        rss += abs2(resid)\n",
    "        v[end] = resid\n",
    "        lowrankupdate!(ch, v)\n",
    "    end\n",
    "    rss\n",
    "end"
   ]
  },
  {
   "cell_type": "code",
   "execution_count": 32,
   "metadata": {},
   "outputs": [
    {
     "data": {
      "text/plain": [
       "1205.6196313926841"
      ]
     },
     "execution_count": 32,
     "metadata": {},
     "output_type": "execute_result"
    }
   ],
   "source": [
    "forwardupdate!(ch, θ, rt, v)"
   ]
  },
  {
   "cell_type": "code",
   "execution_count": 33,
   "metadata": {},
   "outputs": [
    {
     "data": {
      "text/plain": [
       "Cholesky{Float64,Array{Float64,2}}\n",
       "U factor:\n",
       "3×3 UpperTriangular{Float64,Array{Float64,2}}:\n",
       " 520.036   466.663  -0.225002\n",
       "    ⋅     1086.95   14.9687  \n",
       "    ⋅         ⋅     31.329   "
      ]
     },
     "execution_count": 33,
     "metadata": {},
     "output_type": "execute_result"
    }
   ],
   "source": [
    "ch"
   ]
  },
  {
   "cell_type": "markdown",
   "metadata": {},
   "source": [
    "Of course the `updatech!` function is sufficiently fast that it is not a problem to use the reverse mode AD.  I am just concerned that I may be using a sledgehammer to "
   ]
  },
  {
   "cell_type": "code",
   "execution_count": 34,
   "metadata": {},
   "outputs": [
    {
     "data": {
      "text/plain": [
       "BenchmarkTools.Trial: \n",
       "  memory estimate:  4.69 KiB\n",
       "  allocs estimate:  36\n",
       "  --------------\n",
       "  minimum time:     4.195 μs (0.00% GC)\n",
       "  median time:      4.275 μs (0.00% GC)\n",
       "  mean time:        5.006 μs (11.43% GC)\n",
       "  maximum time:     470.218 μs (98.05% GC)\n",
       "  --------------\n",
       "  samples:          10000\n",
       "  evals/sample:     7"
      ]
     },
     "execution_count": 34,
     "metadata": {},
     "output_type": "execute_result"
    }
   ],
   "source": [
    "@benchmark updatech!($ch, $θ, $rt, $v)"
   ]
  }
 ],
 "metadata": {
  "@webio": {
   "lastCommId": null,
   "lastKernelId": null
  },
  "kernelspec": {
   "display_name": "Julia 1.1.1",
   "language": "julia",
   "name": "julia-1.1"
  },
  "language_info": {
   "file_extension": ".jl",
   "mimetype": "application/julia",
   "name": "julia",
   "version": "1.1.1"
  }
 },
 "nbformat": 4,
 "nbformat_minor": 2
}
