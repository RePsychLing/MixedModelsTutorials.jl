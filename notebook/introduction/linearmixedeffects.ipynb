{
  "cells": [
    {
      "cell_type": "markdown",
      "source": [
        "# Linear mixed-effects models\n### Douglas Bates\n\nAs described in the last section a _mixed-effects model_ or, more simply, a _mixed model_ incorporates both _fixed-effects_ parameters and _random effects_.  The random effects are associated with the levels of one or more _grouping factors_, which typically are _experimental units_ or _observational units_, such as `subject` or `item`. When we have several observations on each of several subjects, say, we may expect to see subject-to-subject variability in the response but assessing this variability is not the primary purpose of the data analysis.  Instead we wish to control for this level of variability in assessing difference in experimental factors.\n\nFor example, the [`sleepstudy`](https://rdrr.io/cran/lme4/man/sleepstudy.html) dataset in the [`lme4`](https://github.com/lme4/lme4) package for `R` is from a study on the effect of sleep deprivation on reaction time.  A sample from the population of interest (long-distance truck drivers) had their average response time measured when they were on their regular sleep schedule and after one up to nine days of sleep deprivation (allowed only 3 hours per day in which to sleep)."
      ],
      "metadata": {}
    },
    {
      "outputs": [],
      "cell_type": "code",
      "source": [
        "using LinearAlgebra, MixedModels, RCall\nRCall.ijulia_setdevice(MIME(\"image/svg+xml\"), width=7, height=5)"
      ],
      "metadata": {},
      "execution_count": null
    },
    {
      "outputs": [],
      "cell_type": "code",
      "source": [
        "R\"\"\"\nrequire(lme4, quietly=TRUE)\nrequire(lattice, quietly=TRUE)\nxyplot(Reaction ~ Days | Subject, sleepstudy,\n       type = c(\"g\",\"p\",\"r\"), layout = c(9,2),\n       index = function(x,y) coef(lm(y ~ x))[1],\n       xlab = \"Days of sleep deprivation\",\n       ylab = \"Average reaction time (ms)\",\n       aspect = \"xy\")\n\"\"\""
      ],
      "metadata": {},
      "execution_count": null
    },
    {
      "cell_type": "markdown",
      "source": [
        "Each panel shows the data from one subject as well as a simple linear regression line fit to that subject's data only.  The panels are ordered by increasing intercept of the within-subject line rwo-wise, starting at the bottom left.  Some subjects, e.g. 310 and 309, have fast reaction times and are almost unaffected by the sleep deprivation.  Others, e.g. 337, start with slow reaction times which then increase substantially after sleep depreivation.\n\nA suitable model for these data would include an intercept and slope for the \"typical\" subject and randomly distributed deviations from these values for each of the observed subjects.  The assumed distribution of the random effects vector is multivariate Gaussian with mean zero (because they represent deviations from the population parameters) and an unknown covariance matrix, $\\Sigma$, to be estimated from the data.\n\nBecause $\\Sigma$ is a covariance matrix it must be symmetric and be positive-definite, a condition that is similar to the requirement that a scalar variance must be positive.  In particular, a positive-definite matrix like $\\Sigma$ has a \"square root\" in the sense that there is a matrix $\\mathbf{L}$ such that $\\Sigma=\\mathbf{L}\\mathbf{L}^\\prime$.  (Multiplying by $\\mathbf{L}^\\prime$ instead of squaring $\\mathbf{L}$ is necessary to ensure that the product is symmetric.)  In fact, there are several such matrices $\\mathbf{L}$.  If we require that $\\mathbf{L}$ is lower triangular and that its diagonal entries be positive, there is only one such matrix, which is called the lower (or left) Cholesky factor.\n\nAs shown later, some of the expressions for the likelihood can be simplified if any scale parameter in the distribution of the response, given the random effects, is incorporated into the covariance matrix of the random effects.  We define $\\mathbf{\\lambda}$ to be the lower triangular matrix with non-negative diagonal entries such that\n$$\n\\Sigma=\\sigma^2{\\bf\\lambda}{\\bf\\lambda}^\\prime\n$$\n\nIt helps to consider the example at this point to clarify these concepts.  Returning to the `sleepstudy` data shown above"
      ],
      "metadata": {}
    },
    {
      "outputs": [],
      "cell_type": "code",
      "source": [
        "sleepstudy = rcopy(R\"lme4::sleepstudy\")"
      ],
      "metadata": {},
      "execution_count": null
    },
    {
      "cell_type": "markdown",
      "source": [
        "we fit a model with fixed effects for the intercept and the slope with respect to days of sleep deprivation and, possibly correlated, random effects for each of these coefficients by `Subject`."
      ],
      "metadata": {}
    },
    {
      "outputs": [],
      "cell_type": "code",
      "source": [
        "f1 = @formula Reaction ~ 1 + Days + (1+Days|Subject)\nm1 = fit(MixedModel, f1, sleepstudy)"
      ],
      "metadata": {},
      "execution_count": null
    },
    {
      "cell_type": "markdown",
      "source": [
        "The \"estimated\" random effects from this model are eighteen vectors, one for each subject, and each of length two (deviation for the intercept and for the slope).  These are returned as a $2\\times 18$ matrix."
      ],
      "metadata": {}
    },
    {
      "outputs": [],
      "cell_type": "code",
      "source": [
        "first(ranef(m1))"
      ],
      "metadata": {},
      "execution_count": null
    },
    {
      "cell_type": "markdown",
      "source": [
        "The fixed-effects coefficients are the typical values for the population - initial reaction time of about 250 ms. and about 10.5 ms. increase in reaction time per day of sleep deprivation."
      ],
      "metadata": {}
    },
    {
      "outputs": [],
      "cell_type": "code",
      "source": [
        "fixef(m1)"
      ],
      "metadata": {},
      "execution_count": null
    },
    {
      "cell_type": "markdown",
      "source": [
        "For this model the matrix $\\mathbf{\\lambda}$ is estimated as"
      ],
      "metadata": {}
    },
    {
      "outputs": [],
      "cell_type": "code",
      "source": [
        "λ = first(m1.λ)"
      ],
      "metadata": {},
      "execution_count": null
    },
    {
      "cell_type": "markdown",
      "source": [
        "and the (maximum likelihood) estimate of $\\sigma^2$, as shown in the \"Variance components\" table, is"
      ],
      "metadata": {}
    },
    {
      "outputs": [],
      "cell_type": "code",
      "source": [
        "σ² = varest(m1)"
      ],
      "metadata": {},
      "execution_count": null
    },
    {
      "cell_type": "markdown",
      "source": [
        "Thus the (maximum likelihood) estimate of the covariance matrix $\\Sigma$ is"
      ],
      "metadata": {}
    },
    {
      "outputs": [],
      "cell_type": "code",
      "source": [
        "Σ = σ² * λ * λ'"
      ],
      "metadata": {},
      "execution_count": null
    },
    {
      "cell_type": "markdown",
      "source": [
        "The correlation shown in the \"Variance components\" table can be evaluated as"
      ],
      "metadata": {}
    },
    {
      "outputs": [],
      "cell_type": "code",
      "source": [
        "Σ[2,1] / sqrt(Σ[1,1] * Σ[2,2])"
      ],
      "metadata": {},
      "execution_count": null
    },
    {
      "cell_type": "markdown",
      "source": [
        "## The Big Picture\n\nAlthough it is tempting to construct the model on a per-subject basis it is ultimately easier to consider the entire set of responses and the collection of all of the random effects together.  There are two reasons for this.  First, the parameters must be estimated from the complete data set.  Second, in situations where there is more than one grouping factor for the random effects it may not be possible to partition the responses according to the grouping factor.  In the sleepstudy example the 180 observations can be partitioned into eighteen groups of ten observations on each of the eighteen subjects.  However, in an example we will consider below each observation is on one of 56 subjects and one of 32 items and those classifications are _crossed_.  That is, each subject is tested on each item and each item is tested on each subject.  (Well, that was the plan at least.  As often happens a few observations were erroneously recorded so the factors are not completely crossed in the data after cleaning.)\n\nIn any case, we write $\\mathbf{b}$ for the complete random-effects vector (in this case a 36-dimensional vector formed from the $2\\times 18$ matrix in _column-major_ order)."
      ],
      "metadata": {}
    },
    {
      "outputs": [],
      "cell_type": "code",
      "source": [
        "b = vec(first(ranef(m1)))"
      ],
      "metadata": {},
      "execution_count": null
    },
    {
      "cell_type": "markdown",
      "source": [
        "In the model the unconditional distribution of the random variable $\\mathcal{B}$ is\n$$\n\\mathcal{B}\\sim\\mathcal{N}\\left(\\mathbf{0},\\sigma^2\\mathbf{\\Lambda}\\mathbf{\\Lambda}^\\prime\\right)\n$$\nand the conditional distribution of the response vector, $\\mathcal{Y}$, is\n$$\n(\\mathcal{Y}|\\mathcal{B}=\\mathbf{b})\\sim\\mathcal{N}\\left(\\mathbf{X\\beta}+\\mathbf{Zb}, \\sigma^2\\mathbf{I}_n\\right)\n$$\n\nThe model matrix $\\mathbf{X}$ for the fixed-effects has the usual form"
      ],
      "metadata": {}
    },
    {
      "outputs": [],
      "cell_type": "code",
      "source": [
        "Int.(m1.X)  # display as Int to reduce clutter"
      ],
      "metadata": {},
      "execution_count": null
    },
    {
      "cell_type": "markdown",
      "source": [
        "but the model matrix $\\mathbf{Z}$ for the random effects is very sparse.  That is, most of the entries in $\\mathbf{Z}$ are zero."
      ],
      "metadata": {}
    },
    {
      "outputs": [],
      "cell_type": "code",
      "source": [
        "Int.(first(m1.reterms))"
      ],
      "metadata": {},
      "execution_count": null
    },
    {
      "cell_type": "markdown",
      "source": [
        "In practice $\\mathbf{Z}$ is stored and manipulated as a special type of sparse matrix.\n\nThe matrix $\\Lambda$ is block-diagonal consisting of 18 diagonal blocks of size $2\\times 2$, each of which is a copy of $\\lambda$.  It could be written as a [Kronecker product](https://en.wikipedia.org/wiki/Kronecker_product)"
      ],
      "metadata": {}
    },
    {
      "outputs": [],
      "cell_type": "code",
      "source": [
        "Λ = kron(I(18), first(m1.λ))"
      ],
      "metadata": {},
      "execution_count": null
    },
    {
      "cell_type": "markdown",
      "source": [
        "but there is no need to actually construct $\\mathbf{\\Lambda}$.  It is completely determined by $\\mathbf{\\lambda}$.\n\n## Spherical random effects\n\nOne of the many useful properties of the normal distribution is that a scalar normal distribution, $\\mathcal{X}\\sim\\mathcal{N}(\\mu,\\sigma^2)$, can be expressed in terms of the _standard normal_ distribution, $\\mathcal{Z}\\sim\\mathcal{N}(0,1)$ as\n$$\n\\mathcal{X} = \\mu + \\sigma \\mathcal{Z}\n$$\nA similar result holds for the multivariate normal distribution.  The random effects vector, $\\mathcal{B}$, with distribution $\\mathcal{N}(\\mathbf{0},\\Sigma)$ can be generated from a \"spherical\" random effects vector, $\\mathcal{U}$, as\n$$\n\\mathcal{B} = \\Lambda \\mathcal{U}\\quad\\mathrm{where}\\quad\\mathcal{U}\\sim\\mathcal{N}(\\mathbf{0},\\sigma^2\\mathbf{I}_q)\n$$\nand $q$ is the dimension of the random-effects vector (36 in our example).\n\n(Recall that a multivariate normal distribution with covariance matrix $\\sigma^2\\mathbf{I}$ is called a \"spherical normal\" because the contours of constant probability density are spheres.  The random effects vector $\\mathcal{U}$ has such a spherical distribution.)\n\nNow the conditional distribution of the response, given the random effects, can be written in terms of $\\mathcal{U}$ as\n$$\n(\\mathcal{Y}|\\mathcal{U}=\\mathbf{u})\\sim\\mathcal{N}\\left(\\mathbf{X\\beta}+\\mathbf{Z\\Lambda u}, \\sigma^2\\mathbf{I}_n\\right)\n$$\n\nThe joint probability density for $\\mathcal{Y}$ and $\\mathcal{U}$ is the product of the conditional density of $\\mathcal{Y}|\\mathcal{U}=\\mathbf{u}$ and the unconditional density of $\\mathcal{U}$.\n$$\n\\begin{aligned}\nf_{\\mathcal{Y},\\mathcal{U}}(\\mathbf{y},\\mathbf{u})&= \\frac{1}{(2\\pi\\sigma^2)^{n/2}}\\exp\\left(-\\frac{\\|\\mathbf{y}-\\mathbf{X\\beta}-\\mathbf{Z\\Lambda u}\\|^2}{2\\sigma^2}\\right)\\,\\frac{1}{(2\\pi\\sigma^2)^{q/2}}\\exp\\left(-\\frac{\\|\\mathbf{u}\\|^2}{2\\sigma^2}\\right)\\\\\n&=\\frac{1}{(2\\pi\\sigma^2)^{(n+q)/2}}\\exp\\left(-\\frac{\\|\\mathbf{y}-\\mathbf{X\\beta}-\\mathbf{Z\\Lambda u}\\|^2+\\|\\mathbf{u}\\|^2}{2\\sigma^2}\\right)\n\\end{aligned}\n$$\n\nEvaluating the likelihood requires the marginal distribution of $\\mathcal{Y}$.  This can be obtained by integrating the joint distribution, $f_{\\mathcal{Y},\\mathcal{U}}(\\mathbf{y},\\mathbf{u})$, evaluated at the observed $\\mathbf{y}$, with respect to $\\mathbf{u}$. There is an analytic solution to this integral.  To derive this solution, we first write the penalized sum of squared residuals in a somewhat unusual but very useful form.  Let $\\mathbf{\\theta}$ be the vector of parameters that determine $\\mathbf{\\lambda}$."
      ],
      "metadata": {}
    },
    {
      "outputs": [],
      "cell_type": "code",
      "source": [
        "show(m1.θ)"
      ],
      "metadata": {},
      "execution_count": null
    },
    {
      "cell_type": "markdown",
      "source": [
        "In this case, $\\mathbf{\\theta}$ consists if the elements of the lower triangle of $\\mathbf{\\lambda}$.  What we will show is that, given a value of $\\mathbf{\\theta}$ the maximum of the log-likelihood for that value of $\\mathbf{\\theta}$ and any value of $\\mathbf{\\beta}$ and $\\sigma$ can be determined from a matrix decomposition, specifically a Cholesky decomposition shown below.  This is called _profiling_ the log likelihood.\n\nFor the purposes of the optimization the objective is on the [_deviance_](https://en.wikipedia.org/wiki/Deviance_(statistics)) scale, which is negative twice the log-likelihood.  A summary of the optimization can be obtained as"
      ],
      "metadata": {}
    },
    {
      "outputs": [],
      "cell_type": "code",
      "source": [
        "m1.optsum"
      ],
      "metadata": {},
      "execution_count": null
    },
    {
      "cell_type": "markdown",
      "source": [
        "It required fewer than 60 evaluations of the objective function to obtain the maximum likelihood estimates of $\\mathbf{\\theta}$ and, with them, the estimates of all the other parameters.\n\nTo evaluate the log-likelihood we write the penalized sum of squared residuals in the joint density, $f_{\\mathcal{Y},\\mathcal{U}}(\\mathbf{y,u})$, as\n$$\n\\begin{aligned}\nr^2_\\mathbf{\\theta}(\\mathbf{u},\\mathbf{\\beta}) &=  \\|\\mathbf{y}-\\mathbf{X\\beta}-\\mathbf{Z\\Lambda_\\theta u}\\|^2+\\|\\mathbf{u}\\|^2\\\\\n&=\\left\\|\\begin{bmatrix}\n\\mathbf{Z\\Lambda}&\\mathbf{X}&\\mathbf{y}\\\\\n\\mathbf{I}_q&\\mathbf{0}&\\mathbf{0}\n\\end{bmatrix}\\begin{bmatrix}-\\mathbf{u}\\\\ -\\mathbf{\\beta} \\\\ 1\\end{bmatrix}\\right\\|^2 \\\\\n&= \\begin{bmatrix}-\\mathbf{u}&-\\mathbf{\\beta}&1\\end{bmatrix}\n\\begin{bmatrix}\n\\mathbf{\\Lambda}^\\prime\\mathbf{Z}^\\prime\\mathbf{Z\\Lambda}+\\mathbf{I} & \\mathbf{\\Lambda}^\\prime\\mathbf{Z}^\\prime\\mathbf{X} & \\mathbf{\\Lambda}^\\prime\\mathbf{Z}^\\prime\\mathbf{y} \\\\\n\\mathbf{X}^\\prime\\mathbf{Z\\Lambda} & \\mathbf{X}^\\prime\\mathbf{X} & \\mathbf{X}^\\prime\\mathbf{y} \\\\\n\\mathbf{y}^\\prime\\mathbf{Z\\Lambda} & \\mathbf{y}^\\prime\\mathbf{X} & \\mathbf{y}^\\prime\\mathbf{y}\n\\end{bmatrix}\n\\begin{bmatrix}-\\mathbf{u}\\\\ -\\mathbf{\\beta} \\\\ 1\\end{bmatrix}\\\\\n&=\n\\begin{bmatrix}-\\mathbf{u}&-\\mathbf{\\beta}&1\\end{bmatrix}\n\\begin{bmatrix}\n\\mathbf{R}_{ZZ}^\\prime & \\mathbf{0} & \\mathbf{0} \\\\\n\\mathbf{R}_{ZX}^\\prime & \\mathbf{R}_{XX}^\\prime & \\mathbf{0} \\\\\n\\mathbf{r}_{Zy}^\\prime & \\mathbf{r}_{Xy}^\\prime & r_{yy}\n\\end{bmatrix}\n\\begin{bmatrix}\n\\mathbf{R}_{ZZ} & \\mathbf{R}_{ZX} & \\mathbf{r}_{Zy} \\\\\n\\mathbf{0} & \\mathbf{R}_{XX} & \\mathbf{r}_{Xy} \\\\\n\\mathbf{0} & \\mathbf{0} & r_{yy}\n\\end{bmatrix}\n\\begin{bmatrix}-\\mathbf{u}\\\\ -\\mathbf{\\beta} \\\\ 1\\end{bmatrix}\\\\\n&= \\left\\|\n\\begin{bmatrix}\n\\mathbf{R}_{ZZ} & \\mathbf{R}_{ZX} & \\mathbf{r}_{Zy} \\\\\n\\mathbf{0} & \\mathbf{R}_{XX} & \\mathbf{r}_{Xy} \\\\\n\\mathbf{0} & \\mathbf{0} & r_{yy}\n\\end{bmatrix}\n\\begin{bmatrix}-\\mathbf{u}\\\\ -\\mathbf{\\beta} \\\\ 1\\end{bmatrix}\\right\\|^2\\\\\n&=\\|\\mathbf{r}_{Zy}-\\mathbf{R}_{ZX}\\mathbf{\\beta}-\\mathbf{R}_{ZZ}\\mathbf{u}\\|^2+ \\|\\mathbf{r}_{Xy}-\\mathbf{R}_{XX}\\mathbf{\\beta}\\|^2 + r_{yy}^2\\\\\n&=r_{yy}^2+\\|\\mathbf{R}_{XX}\\mathbf{\\beta}-\\mathbf{r}_{Xy}\\|^2+\\|\\mathbf{R}_{ZZ}\\mathbf{u}+\\mathbf{R}_{ZX}\\mathbf{\\beta}-\\mathbf{r}_{Zy}\\|^2\n\\end{aligned}\n$$\nwhere\n$$\n\\mathbf{R}(\\mathbf{\\theta})=\n\\begin{bmatrix}\n\\mathbf{R}_{ZZ} & \\mathbf{R}_{ZX} & \\mathbf{r}_{Zy} \\\\\n\\mathbf{0} & \\mathbf{R}_{XX} & \\mathbf{r}_{Xy} \\\\\n\\mathbf{0} & \\mathbf{0} & r_{yy}\n\\end{bmatrix}\n$$\nis the upper triangular, right Cholesky factor of the symmetric, positive definite matrix\n$$\n\\begin{bmatrix}\n\\mathbf{\\Lambda}^\\prime\\mathbf{Z}^\\prime\\mathbf{Z\\Lambda}+\\mathbf{I} & \\mathbf{\\Lambda}^\\prime\\mathbf{Z}^\\prime\\mathbf{X} & \\mathbf{\\Lambda}^\\prime\\mathbf{Z}^\\prime\\mathbf{y} \\\\\n\\mathbf{X}^\\prime\\mathbf{Z\\Lambda} & \\mathbf{X}^\\prime\\mathbf{X} & \\mathbf{X}^\\prime\\mathbf{y} \\\\\n\\mathbf{y}^\\prime\\mathbf{Z\\Lambda} & \\mathbf{y}^\\prime\\mathbf{X} & \\mathbf{y}^\\prime\\mathbf{y}\n\\end{bmatrix}\n$$\nThe sub-matrices on the diagonal, $\\mathbf{R}_{ZZ}$ and $\\mathbf{R}_{XX}$, are upper triangular and $\\mathbf{R}_{ZZ}$ is sparse.  In our example, $\\mathbf{R}_{ZZ}$ is $36\\times 36$ but the only non-zeros are the upper triangles of $18$ blocks of size $2\\times 2$ along the diagonal.  Also, the diagonal elements are, by construction, positive.  Because $\\mathbf{R}_{ZZ}$ is triangular its determinant, $|\\mathbf{R}_{ZZ}|$, is the product of its diagonal elements which also must be positive.\n\nFurthermore, we can see that, for a fixed value of $\\mathbf{\\theta}$ the minimum $r^2_\\mathbf{\\theta}(\\mathbf{u},\\mathbf{\\beta})$ is $r_{yy}^2$ and the conditional estimate of $\\mathbf{\\beta}$ satisfies\n$$\n\\mathbf{R}_{XX}\\widehat{\\mathbf{\\beta}}(\\mathbf{\\theta})=\\mathbf{r}_{Xy} .\n$$\nThe conditional mode, $\\tilde{\\mathbf{u}}$, of $\\mathcal{U}$ given $\\mathcal{Y}=\\mathbf{y}$ is the solution to\n$$\n\\mathbf{R}_{ZZ}\\tilde{\\mathbf{u}}=\\mathbf{r}_{Zy}-\\mathbf{R}_{ZX}\\mathbf{\\beta}\n$$\nTechnically, $\\mathbf{\\beta}$ and $\\mathbf{\\theta}$ are assumed known because this is a statement about distributions.  In practice, the estimates, $\\widehat{\\mathbf{\\theta}}$ and $\\widehat{\\beta}$, are plugged in.\n\nA Cholesky decomposition can be written in terms of the lower triangular factor on the left, $\\mathbf{L}$, or in terms of $\\mathbf{R}$ on the right.  There is a slight technical advantage in evaluating $\\mathbf{L}$ in the `MixedModels` package so it is $\\mathbf{L}$ that is evaluated and stored.  However, the theory is a bit easier to see in terms of $\\mathbf{R}$, which we can obtain as"
      ],
      "metadata": {}
    },
    {
      "outputs": [],
      "cell_type": "code",
      "source": [
        "UpperTriangular(m1.L')"
      ],
      "metadata": {},
      "execution_count": null
    },
    {
      "cell_type": "markdown",
      "source": [
        "To evaluate the likelihood,\n$$\nL(\\mathbf{\\theta},\\mathbf{\\beta},\\sigma|\\mathbf{y}) = \\int_\\mathbf{u} f_{\\mathcal{Y},\\mathcal{U}}(\\mathbf{y},\\mathbf{u})\\, d\\mathbf{u}\n$$\nwe isolate the part of the joint density that depends on $\\mathbf{u}$ and perform a change of variable to\n$$\n\\mathbf{v}=\\mathbf{R}_{ZZ}\\mathbf{u}+\\mathbf{R}_{ZX}\\mathbf{\\beta}-\\mathbf{r}_{Zy} .\n$$\nFrom the properties of the multivariate Gaussian distribution\n$$\n\\begin{aligned}\n\\int_{\\mathbf{u}}\\frac{1}{(2\\pi\\sigma^2)^{q/2}}\\exp\\left(-\n\\frac{\\|\\mathbf{R}_{ZZ}\\mathbf{u}+\\mathbf{R}_{ZX}\\mathbf{\\beta}-\\mathbf{r}_{Zy}\\|^2}{2\\sigma^2}\\right)\\,d\\mathbf{u}\n&=\\int_{\\mathbf{v}}\\frac{1}{(2\\pi\\sigma^2)^{q/2}}\\exp\\left(-\\frac{\\|\\mathbf{v}\\|^2}{2\\sigma^2}\\right)|\\mathbf{R}_{ZZ}|^{-1}\\,d\\mathbf{v}\\\\\n&=|\\mathbf{R}_{ZZ}|^{-1}\n\\end{aligned}\n$$\nfrom which we obtain the likelihood as\n$$\nL(\\mathbf{\\theta},\\mathbf{\\beta},\\sigma)=\\frac{|\\mathbf{R}_{ZZ}|^{-1}}{(2\\pi\\sigma^2)^{n/2}}\\exp\\left(-\n\\frac{r_{yy}^2 + \\|\\mathbf{R}_{XX}(\\mathbf{\\beta}-\\widehat{\\mathbf{\\beta}})\\|^2}{2\\sigma^2}\\right)\n$$\nIf we plug in $\\mathbf{\\beta}=\\widehat{\\mathbf{\\beta}}$ and take the logarithm we can solve for the estimate of $\\sigma^2$, given $\\mathbf{\\theta}$\n$$\n\\widehat{\\sigma^2}=\\frac{r_{yy}^2}{n}\n$$\nwhich gives the _profiled log-likelihood_, $\\ell(\\mathbf{\\theta}|\\mathbf{y})=\\log L(\\mathbf{\\theta},\\widehat{\\mathbf{\\beta}},\\widehat{\\sigma})$ as\n$$\n-2\\ell(\\mathbf{\\theta}|\\mathbf{y})=2\\log(|\\mathbf{R}_{ZZ}|) +\n    n\\left(1+\\log\\left(\\frac{2\\pi r_{yy}^2(\\mathbf{\\theta})}{n}\\right)\\right)\n$$\n\nThis may seem complicated but, relative to other formulations of the model, it is remarkably simple.\n\nOne of the interesting aspects of this formulation is that it is not necessary to solve for the conditional estimate of $\\mathbf{\\beta}$ or the conditional modes of the random effects when evaluating the log-likelihood.  The two values needed for the log-likelihood, $2\\log(|\\mathbf{R}_{ZZ}|)$ and $r_{yy}^2$ are obtained directly from the Cholesky factor.  The logarithm of the determinant,\n$$\n2\\log(|\\mathbf{R}_{ZZ}|) = \\log(|\\mathbf{\\Lambda}^\\prime\\mathbf{Z}^\\prime\\mathbf{Z}\\mathbf{\\Lambda}+\\mathbf{I}_q|)\n$$\nis available as"
      ],
      "metadata": {}
    },
    {
      "outputs": [],
      "cell_type": "code",
      "source": [
        "logdet(m1)"
      ],
      "metadata": {},
      "execution_count": null
    },
    {
      "cell_type": "markdown",
      "source": [
        "and $r_{yy}^2$ is available as"
      ],
      "metadata": {}
    },
    {
      "outputs": [],
      "cell_type": "code",
      "source": [
        "pwrss(m1)"
      ],
      "metadata": {},
      "execution_count": null
    },
    {
      "cell_type": "markdown",
      "source": [
        "which is the square of the element in the lower right corner of either $\\mathbf{L}$ or $\\mathbf{R}$"
      ],
      "metadata": {}
    },
    {
      "outputs": [],
      "cell_type": "code",
      "source": [
        "abs2(first(m1.L[Block(3,3)]))"
      ],
      "metadata": {},
      "execution_count": null
    },
    {
      "cell_type": "markdown",
      "source": [
        "Alternatively, `varest` returns $\\widehat{\\sigma^2}$"
      ],
      "metadata": {}
    },
    {
      "outputs": [],
      "cell_type": "code",
      "source": [
        "varest(m1)"
      ],
      "metadata": {},
      "execution_count": null
    },
    {
      "cell_type": "markdown",
      "source": [
        "This gives the objective function as"
      ],
      "metadata": {}
    },
    {
      "outputs": [],
      "cell_type": "code",
      "source": [
        "logdet(m1) + dof_residual(m1)*(1 + log(2π * varest(m1)))"
      ],
      "metadata": {},
      "execution_count": null
    },
    {
      "cell_type": "markdown",
      "source": [
        "One last technical point, the update of the Cholesky factor, $\\mathbf{L}$, for a new value of $\\mathbf{\\theta}$, which generates $\\mathbf{\\lambda}$ and, hence, $\\mathbf{\\Lambda}$ can start with the model matrices $\\mathbf{Z}$ and $\\mathbf{X}$ and the response, $\\mathbf{y}$ or it can start with the products, $\\mathbf{Z}^\\prime\\mathbf{Z}$, etc.  The package uses the second approach which is more efficient when the number of observations is large relative to the number of random effects.  The non-redundant products are stored in the `A` field."
      ],
      "metadata": {}
    },
    {
      "outputs": [],
      "cell_type": "code",
      "source": [
        "Symmetric(m1.A, :L)"
      ],
      "metadata": {},
      "execution_count": null
    },
    {
      "cell_type": "markdown",
      "source": [
        "Because the experiment is _balanced_, in the sense that each subject's reaction time is measured the same number of times and after the same number of days of sleep deprivation, the diagonal blocks in $\\mathbf{Z}^\\prime\\mathbf{Z}$ are repetitions of one another.  The number in the lower right-hand corner of `A` is $\\mathbf{y}^\\prime\\mathbf{y}$ or"
      ],
      "metadata": {}
    },
    {
      "outputs": [],
      "cell_type": "code",
      "source": [
        "sum(abs2, sleepstudy.Reaction)"
      ],
      "metadata": {},
      "execution_count": null
    },
    {
      "cell_type": "markdown",
      "source": [
        "## Mixed-models and shrinkage of estimates\n\n[John Tukey](https://en.wikipedia.org/wiki/John_Tukey) characterized the _regularization_ or _shrinkage_ aspects of mixed-effects models as _borrowing strength_ from the estimates for other subjects in the experiment.  The penalty term in the penalized least squares calculation has the effect of shrinking an individual's coefficients in the predictor back toward the global estimates."
      ],
      "metadata": {}
    },
    {
      "outputs": [],
      "cell_type": "code",
      "source": [
        "R\"\"\"\ndf <- coef(lmList(Reaction ~ Days | Subject, sleepstudy))\nfm2 <- lmer(Reaction ~ Days + (Days|Subject), sleepstudy)\nfclow <- subset(df, `(Intercept)` < 251)\nfchigh <- subset(df, `(Intercept)` > 251)\ncc1 <- as.data.frame(coef(fm2)$Subject)\nnames(cc1) <- c(\"A\", \"B\")\ndf <- cbind(df, cc1)\nff <- fixef(fm2)\nwith(df,\n     print(xyplot(`(Intercept)` ~ Days, aspect = 1,\n                  x1 = B, y1 = A,\n                  panel = function(x, y, x1, y1, subscripts, ...) {\n                      panel.grid(h = -1, v = -1)\n                      x1 <- x1[subscripts]\n                      y1 <- y1[subscripts]\n                      larrows(x, y, x1, y1, type = \"closed\", length = 0.1,\n                              angle = 15, ...)\n                      lpoints(x, y,\n                              pch = trellis.par.get(\"superpose.symbol\")$pch[2],\n                              col = trellis.par.get(\"superpose.symbol\")$col[2])\n                      lpoints(x1, y1,\n                              pch = trellis.par.get(\"superpose.symbol\")$pch[1],\n                              col = trellis.par.get(\"superpose.symbol\")$col[1])\n                      lpoints(ff[2], ff[1],\n                              pch = trellis.par.get(\"superpose.symbol\")$pch[3],\n                              col = trellis.par.get(\"superpose.symbol\")$col[3])\n                      ltext(fclow[,2], fclow[,1], row.names(fclow),\n                            adj = c(0.5, 1.7))\n                      ltext(fchigh[,2], fchigh[,1], row.names(fchigh),\n                            adj = c(0.5, -0.6))\n                  },\n                  key = list(space = \"top\", columns = 3,\n                  text = list(c(\"Mixed model\", \"Within-group\", \"Population\")),\n                  points = list(col = trellis.par.get(\"superpose.symbol\")$col[1:3],\n                  pch = trellis.par.get(\"superpose.symbol\")$pch[1:3]))\n                  )))\n\"\"\";"
      ],
      "metadata": {},
      "execution_count": null
    },
    {
      "cell_type": "markdown",
      "source": [
        "Comparing this plot to the original data plot with the lines from the various fits superimposed"
      ],
      "metadata": {}
    },
    {
      "outputs": [],
      "cell_type": "code",
      "source": [
        "R\"\"\"\nprint(xyplot(Reaction ~ Days | Subject, sleepstudy, aspect = \"xy\",\n             layout = c(9,2), type = c(\"g\", \"p\", \"r\"),\n             coef.list = df[,3:4],\n             panel = function(..., coef.list) {\n                 panel.xyplot(...)\n                 panel.abline(as.numeric(coef.list[packet.number(),]),\n                              col.line = trellis.par.get(\"superpose.line\")$col[2],\n                              lty = trellis.par.get(\"superpose.line\")$lty[2]\n                              )\n                 panel.abline(fixef(fm2),\n                              col.line = trellis.par.get(\"superpose.line\")$col[4],\n                              lty = trellis.par.get(\"superpose.line\")$lty[4]\n                              )\n             },\n             index.cond = function(x,y) coef(lm(y ~ x))[1],\n             xlab = \"Days of sleep deprivation\",\n             ylab = \"Average reaction time (ms)\",\n             key = list(space = \"top\", columns = 3,\n             text = list(c(\"Within-subject\", \"Mixed model\", \"Population\")),\n             lines = list(col = trellis.par.get(\"superpose.line\")$col[c(2:1,4)],\n             lty = trellis.par.get(\"superpose.line\")$lty[c(2:1,4)]))))\n\"\"\";"
      ],
      "metadata": {},
      "execution_count": null
    },
    {
      "cell_type": "markdown",
      "source": [
        "shows that the fits for those subjects whose data shows a strong linear trend (e.g. 308, 309, 310, 337) are not changed that much.  But those whose data does not define a line well (e.g. 330, 331) are shrunk toward the global fit."
      ],
      "metadata": {}
    },
    {
      "outputs": [],
      "cell_type": "code",
      "source": [
        "using MixedModelsTutorials\nMixedModelsTutorials.tutorial_footer(WEAVE_ARGS[:folder],WEAVE_ARGS[:file])"
      ],
      "metadata": {},
      "execution_count": null
    }
  ],
  "nbformat_minor": 2,
  "metadata": {
    "language_info": {
      "file_extension": ".jl",
      "mimetype": "application/julia",
      "name": "julia",
      "version": "1.2.0"
    },
    "kernelspec": {
      "name": "julia-1.2",
      "display_name": "Julia 1.2.0",
      "language": "julia"
    }
  },
  "nbformat": 4
}
